{
 "cells": [
  {
   "cell_type": "markdown",
   "metadata": {},
   "source": [
    "<img src=\"http://imgur.com/1ZcRyrc.png\" style=\"float: left; margin: 20px; height: 55px\">\n",
    "\n",
    "# Project 2: Analyzing Chipotle Data\n",
    "\n",
    "_Author: Joseph Nelson (DC)_\n",
    "\n",
    "---"
   ]
  },
  {
   "cell_type": "markdown",
   "metadata": {},
   "source": [
    "For Project 2, you will complete a series of exercises exploring [order data from Chipotle](https://github.com/TheUpshot/chipotle), compliments of _The New York Times'_ \"The Upshot.\"\n",
    "\n",
    "For these exercises, you will conduct basic exploratory data analysis (Pandas not required) to understand the essentials of Chipotle's order data: how many orders are being made, the average price per order, how many different ingredients are used, etc. These allow you to practice business analysis skills while also becoming comfortable with Python."
   ]
  },
  {
   "cell_type": "markdown",
   "metadata": {},
   "source": [
    "---\n",
    "\n",
    "## Basic Level"
   ]
  },
  {
   "cell_type": "markdown",
   "metadata": {},
   "source": [
    "### Part 1: Read in the file with `csv.reader()` and store it in an object called `file_nested_list`.\n",
    "\n",
    "Hint: This is a TSV (tab-separated value) file, and `csv.reader()` needs to be told [how to handle it](https://docs.python.org/2/library/csv.html)."
   ]
  },
  {
   "cell_type": "code",
   "execution_count": 56,
   "metadata": {},
   "outputs": [],
   "source": [
    "import csv\n",
    "from collections import namedtuple   # Convenient to store the data rows\n",
    "\n",
    "DATA_FILE = './data/chipotle.tsv'"
   ]
  },
  {
   "cell_type": "code",
   "execution_count": 57,
   "metadata": {},
   "outputs": [],
   "source": [
    "import csv\n",
    "\n",
    "# specify that the delimiter is a tab character\n",
    "with open(DATA_FILE, mode='r') as f:\n",
    "    file_nested_list = [row for row in csv.reader(f, delimiter='\\t')]"
   ]
  },
  {
   "cell_type": "markdown",
   "metadata": {},
   "source": [
    "### Part 2: Separate `file_nested_list` into the `header` and the `data`.\n"
   ]
  },
  {
   "cell_type": "code",
   "execution_count": 58,
   "metadata": {},
   "outputs": [],
   "source": [
    "header = file_nested_list[0]"
   ]
  },
  {
   "cell_type": "code",
   "execution_count": 59,
   "metadata": {},
   "outputs": [],
   "source": [
    "data = file_nested_list[1:]"
   ]
  },
  {
   "cell_type": "markdown",
   "metadata": {},
   "source": [
    "---\n",
    "\n",
    "## Intermediate Level"
   ]
  },
  {
   "cell_type": "markdown",
   "metadata": {},
   "source": [
    "### Part 3: Calculate the average price of an order.\n",
    "\n",
    "Hint: Examine the data to see if the `quantity` column is relevant to this calculation.\n",
    "\n",
    "Hint: Think carefully about the simplest way to do this!"
   ]
  },
  {
   "cell_type": "code",
   "execution_count": 60,
   "metadata": {},
   "outputs": [
    {
     "ename": "SyntaxError",
     "evalue": "Missing parentheses in call to 'print'. Did you mean print(header)? (<ipython-input-60-fc04f50db206>, line 5)",
     "output_type": "error",
     "traceback": [
      "\u001b[1;36m  File \u001b[1;32m\"<ipython-input-60-fc04f50db206>\"\u001b[1;36m, line \u001b[1;32m5\u001b[0m\n\u001b[1;33m    print header\u001b[0m\n\u001b[1;37m          ^\u001b[0m\n\u001b[1;31mSyntaxError\u001b[0m\u001b[1;31m:\u001b[0m Missing parentheses in call to 'print'. Did you mean print(header)?\n"
     ]
    }
   ],
   "source": [
    "# ### Calculating the sum of the price of all orders\n",
    "\n",
    "# After exploring our data for a minute, we find two orders for the same item - Chicken Bowl - differing by the quantity\n",
    "\n",
    "print header\n",
    "print data[4]\n",
    "print data[5]\n",
    "\n",
    "\n",
    "# We see that the item_price field reflects the quantity ordered. Thus, to calculate the total value of all orders, \n",
    "#we can safely ignore the quantity column because the item_price takes quantity into account.\n",
    "# We want the sum of all the order prices - the last item in each list. Here are two ways we could get this data:"
   ]
  },
  {
   "cell_type": "code",
   "execution_count": null,
   "metadata": {},
   "outputs": [],
   "source": [
    "# Option 1\n",
    "prices = [row[4] for row in data]   # slice to position four\n",
    "\n",
    "# Option 2\n",
    "prices = [row[-1] for row in data]   # slice to the last position"
   ]
  },
  {
   "cell_type": "code",
   "execution_count": null,
   "metadata": {},
   "outputs": [],
   "source": [
    "# Let's look at the first five results:\n",
    "prices[0:5]\n",
    "\n",
    "\n",
    "# Each item in the list is a sting.  We can tell this because the results above are wrapped in quotes.\n",
    "# To confirm, let's explicity check the type of the first item in the list:\n",
    "\n",
    "type(prices[0])"
   ]
  },
  {
   "cell_type": "code",
   "execution_count": null,
   "metadata": {},
   "outputs": [],
   "source": [
    "# Since we want to do a calculation, we need to change the type from string to float. \n",
    "# To do this, we first need to remove the $. Here are two different ways to accomplish this:\n",
    "\n",
    "# Option 1\n",
    "prices = [row[4][1:] for row in data]   # remove the dollar sign by slicing\n",
    "\n",
    "# Option 2\n",
    "prices = [row[4].replace('$', '') for row in data]   # remove the dollar sign by replacing '$' with an empty string"
   ]
  },
  {
   "cell_type": "code",
   "execution_count": null,
   "metadata": {},
   "outputs": [],
   "source": [
    "# Let's look at the first five results:\n",
    "prices[0:5]\n"
   ]
  },
  {
   "cell_type": "code",
   "execution_count": null,
   "metadata": {},
   "outputs": [],
   "source": [
    "# Now we can convert our results to floats\n",
    "prices = [float(row[4][1:]) for row in data]\n",
    "\n",
    "# Let's look at the first five results and check the type of the first item:\n",
    "print prices[0:5]\n",
    "print type(prices[0])"
   ]
  },
  {
   "cell_type": "code",
   "execution_count": null,
   "metadata": {},
   "outputs": [],
   "source": [
    "# Finally, we calculate our total order sum with the built-in sum function\n",
    "\n",
    "total_order_sum = sum([float(row[4][1:]) for row in data]) \n",
    "total_order_sum"
   ]
  },
  {
   "cell_type": "code",
   "execution_count": null,
   "metadata": {},
   "outputs": [],
   "source": [
    "#  Calculating the total number of orders\n",
    "\n",
    "# We can look at the first and last items in the list\n",
    "print (header)\n",
    "print (data[0])\n",
    "print (data[-1])"
   ]
  },
  {
   "cell_type": "code",
   "execution_count": null,
   "metadata": {},
   "outputs": [],
   "source": [
    "# It seems that there are 1834 orders. You could assume this since that's the maximum order_id, but it is best to check, as we are not certain that the data is clean. If the data was not sorted by order or if there was a missing order, then 1834 might not be correct.\n",
    "# So, let's confirm this assumption:\n",
    "\n",
    "# First, let's build a list of the order_ids\n",
    "order_ids = [row[0] for row in data]\n",
    "\n",
    "# Let's look at the first ten results\n",
    "order_ids[0:10]\n",
    "\n",
    "\n",
    "# We only want to count each order once. We can get the distinct order values with the set function:\n",
    "set(order_ids[0:10])\n"
   ]
  },
  {
   "cell_type": "code",
   "execution_count": null,
   "metadata": {},
   "outputs": [],
   "source": [
    "# Only keep unique order_ids\n",
    "unique_order_ids = set(order_ids)"
   ]
  },
  {
   "cell_type": "code",
   "execution_count": null,
   "metadata": {},
   "outputs": [],
   "source": [
    "# Use the len function to determine the number of unique order_ids\n",
    "num_orders = len(unique_order_ids)\n",
    "num_orders"
   ]
  },
  {
   "cell_type": "code",
   "execution_count": null,
   "metadata": {},
   "outputs": [],
   "source": [
    "# ### Calculating the average price\n",
    "\n",
    "# Finally, we answer the question by calculating the average\n",
    "average_order_price = total_order_sum / num_orders\n",
    "average_order_price"
   ]
  },
  {
   "cell_type": "code",
   "execution_count": null,
   "metadata": {},
   "outputs": [],
   "source": [
    "# Let's recap by looking at the final code:\n",
    "total_order_sum = sum([float(row[4][1:]) for row in data])\n",
    "num_orders = len(set([row[0] for row in data]))\n",
    "average_order_price = round(total_order_sum / num_orders, 2)  \n"
   ]
  },
  {
   "cell_type": "code",
   "execution_count": null,
   "metadata": {},
   "outputs": [],
   "source": [
    "# Let's round our result to 2 decimal places\n",
    "average_order_price"
   ]
  },
  {
   "cell_type": "code",
   "execution_count": null,
   "metadata": {},
   "outputs": [],
   "source": [
    "# count the number of unique order_id's\n",
    "# note: you could assume this is 1834 since that's the maximum order_id, but it's best to check\n",
    "num_orders = len(set([row[0] for row in data]))     # 1834"
   ]
  },
  {
   "cell_type": "code",
   "execution_count": null,
   "metadata": {},
   "outputs": [],
   "source": [
    "# create a list of prices\n",
    "# note: ignore the 'quantity' column because the 'item_price' takes quantity into account\n",
    "prices = [float(row[4][1:-1]) for row in data]      # strip the dollar sign and trailing space"
   ]
  },
  {
   "cell_type": "code",
   "execution_count": null,
   "metadata": {},
   "outputs": [],
   "source": [
    "# calculate the average price of an order and round to 2 digits\n",
    "round(sum(prices) / num_orders, 2)      # $18.81"
   ]
  },
  {
   "cell_type": "markdown",
   "metadata": {},
   "source": [
    "### Part 4: Create a list (or set) named `unique_sodas` containing all of unique sodas and soft drinks that Chipotle sells.\n",
    "\n",
    "Note: Just look for `'Canned Soda'` and `'Canned Soft Drink'`, and ignore other drinks like `'Izze'`."
   ]
  },
  {
   "cell_type": "code",
   "execution_count": null,
   "metadata": {},
   "outputs": [],
   "source": [
    "# First let's look at all of the items\n",
    "distinct_items = set([row[2] for row in data])\n",
    "distinct_items "
   ]
  },
  {
   "cell_type": "code",
   "execution_count": null,
   "metadata": {},
   "outputs": [],
   "source": [
    "# Our first goal is to reduce the dataset to only soda and soft drink orders.\n",
    "# \n",
    "# It appears that the only items that use the word 'Canned' are 'Canned Soda' and 'Canned Soft Drink.'"
   ]
  },
  {
   "cell_type": "code",
   "execution_count": null,
   "metadata": {},
   "outputs": [],
   "source": [
    "# This means we only need to use one filter criteria: **Look for rows with the word 'Canned'**"
   ]
  },
  {
   "cell_type": "code",
   "execution_count": null,
   "metadata": {},
   "outputs": [],
   "source": [
    "# Create a list only including soda and soft drink orders\n",
    "soda_orders = []\n",
    "for row in data:\n",
    "    if 'Canned' in row[2]:\n",
    "        soda_orders.append(row)"
   ]
  },
  {
   "cell_type": "code",
   "execution_count": null,
   "metadata": {},
   "outputs": [],
   "source": [
    "# Let's look at the first five results:\n",
    "soda_orders[0:5]"
   ]
  },
  {
   "cell_type": "code",
   "execution_count": null,
   "metadata": {},
   "outputs": [],
   "source": [
    "# This can also be done using a list comprehension with an 'if' condition\n",
    "soda_orders = [row for row in data if 'Canned' in row[2]]"
   ]
  },
  {
   "cell_type": "code",
   "execution_count": null,
   "metadata": {},
   "outputs": [],
   "source": [
    "# Just out of interest, let's look at two other ways we could have filtered the data:\n",
    "\n",
    "soda_orders = [row for row in data if 'Canned Soda' in row[2] or 'Canned Soft Drink' in row[2]]\n",
    "soda_orders[0:5]\n",
    "\n",
    "\n",
    "soda_orders = [row for row in data if 'Canned Soda' == row[2] or 'Canned Soft Drink' == row[2]]\n",
    "soda_orders[0:5]"
   ]
  },
  {
   "cell_type": "code",
   "execution_count": null,
   "metadata": {},
   "outputs": [],
   "source": [
    "# We only want the choice_description (e.g. Sprite, Mountain Dew). This is the fourth item in the list.\n",
    "# Since Python uses 0-based indexing, we get this by using row[3] as the first argument in our list comprehension:\n",
    "sodas = [row[3] for row in data if 'Canned' in row[2]]"
   ]
  },
  {
   "cell_type": "code",
   "execution_count": null,
   "metadata": {},
   "outputs": [],
   "source": [
    "# Let's look at the first five results\n",
    "sodas[0:5]\n",
    "\n",
    "\n",
    "# The results above may look like 5 lists inside of a larger list. Let's assume that's the case, and try to get the first Sprite:\n",
    "\n",
    "sodas[0][0]"
   ]
  },
  {
   "cell_type": "code",
   "execution_count": null,
   "metadata": {},
   "outputs": [],
   "source": [
    "# What is going on?\n",
    "# \n",
    "# The raw data for choice_description includues brackets (e.g. [Sprite]). We loaded this data in as a string, so while it looks like we have lists inside lists, the result is actually just one list. This is indicated by the quotes wrapping each item in the list, which means the list contains strings.\n",
    "\n",
    "# Print the first list element\n",
    "print sodas[0]\n",
    "\n",
    "# Show that it's a string\n",
    "print type(sodas[0])\n",
    "\n",
    "# It is 8 characters long, including the brackets\n",
    "print len(sodas[0])"
   ]
  },
  {
   "cell_type": "code",
   "execution_count": null,
   "metadata": {},
   "outputs": [],
   "source": [
    "# Let's strip the brackets at the start and end of each soda name, using [1:-1] to remove the first and last characters\n",
    "sodas = [row[3][1:-1] for row in data if 'Canned' in row[2]]\n",
    "\n",
    "# Let's look at the first five results\n",
    "sodas[0:5]\n",
    "\n",
    "\n",
    "# Almost done - we just need to get rid of duplicate values\n",
    "unique_sodas = set([row[3][1:-1] for row in data if 'Canned' in row[2]])   # Success in one line of code!\n",
    "unique_sodas"
   ]
  },
  {
   "cell_type": "code",
   "execution_count": null,
   "metadata": {},
   "outputs": [],
   "source": [
    "# Just for reference, how would this look if we did not use a list comprehension?\n",
    "\n",
    "# build a list of all sodas\n",
    "sodas = []\n",
    "for row in data:\n",
    "    if 'Canned' in row[2]:\n",
    "        sodas.append(row[3][1:-1])   # strip the brackets\n",
    "\n",
    "# create a set of unique sodas\n",
    "unique_sodas = set(sodas)"
   ]
  },
  {
   "cell_type": "code",
   "execution_count": null,
   "metadata": {},
   "outputs": [],
   "source": [
    "#"
   ]
  },
  {
   "cell_type": "code",
   "execution_count": null,
   "metadata": {},
   "outputs": [],
   "source": [
    "# if 'item_name' includes 'Canned', append 'choice_description' to 'sodas' list\n",
    "sodas = []\n",
    "for row in data:\n",
    "    if 'Canned' in row[2]:\n",
    "        sodas.append(row[3][1:-1])      # strip the brackets"
   ]
  },
  {
   "cell_type": "code",
   "execution_count": null,
   "metadata": {},
   "outputs": [],
   "source": [
    "# equivalent list comprehension (using an 'if' condition)\n",
    "sodas = [row[3][1:-1] for row in data if 'Canned' in row[2]]"
   ]
  },
  {
   "cell_type": "code",
   "execution_count": null,
   "metadata": {},
   "outputs": [],
   "source": [
    "# create a set of unique sodas\n",
    "unique_sodas = set(sodas)"
   ]
  },
  {
   "cell_type": "code",
   "execution_count": null,
   "metadata": {},
   "outputs": [],
   "source": []
  },
  {
   "cell_type": "markdown",
   "metadata": {},
   "source": [
    "---\n",
    "\n",
    "## Advanced Level\n"
   ]
  },
  {
   "cell_type": "markdown",
   "metadata": {},
   "source": [
    "### Part 5: Calculate the average number of toppings per burrito.\n",
    "\n",
    "Note: Let's ignore the `quantity` column to simplify this task.\n",
    "\n",
    "Hint: Think carefully about the easiest way to count the number of toppings!\n"
   ]
  },
  {
   "cell_type": "code",
   "execution_count": null,
   "metadata": {},
   "outputs": [],
   "source": [
    "# keep a running total of burritos and toppings\n",
    "burrito_count = 0\n",
    "topping_count = 0"
   ]
  },
  {
   "cell_type": "code",
   "execution_count": null,
   "metadata": {},
   "outputs": [],
   "source": [
    "# calculate number of toppings by counting the commas and adding 1\n",
    "# note: x += 1 is equivalent to x = x + 1\n",
    "for row in data:\n",
    "    if 'Burrito' in row[2]:\n",
    "        burrito_count += 1\n",
    "        topping_count += (row[3].count(',') + 1)"
   ]
  },
  {
   "cell_type": "code",
   "execution_count": null,
   "metadata": {},
   "outputs": [],
   "source": [
    "# calculate the average topping count and round to 2 digits\n",
    "round(topping_count / float(burrito_count), 2)      # 5.40"
   ]
  },
  {
   "cell_type": "code",
   "execution_count": null,
   "metadata": {},
   "outputs": [],
   "source": []
  },
  {
   "cell_type": "markdown",
   "metadata": {},
   "source": [
    "### Part 6: Create a dictionary. Let the keys represent chip orders and the values represent the total number of orders.\n",
    "\n",
    "Expected output: `{'Chips and Roasted Chili-Corn Salsa': 18, ... }`\n",
    "\n",
    "Note: Please take the `quantity` column into account!\n",
    "\n",
    "Optional: Learn how to use `.defaultdict()` to simplify your code."
   ]
  },
  {
   "cell_type": "code",
   "execution_count": null,
   "metadata": {},
   "outputs": [],
   "source": [
    "# start with an empty dictionary\n",
    "chips = {}"
   ]
  },
  {
   "cell_type": "code",
   "execution_count": null,
   "metadata": {},
   "outputs": [],
   "source": [
    "# if chip order is not in dictionary, then add a new key/value pair\n",
    "# if chip order is already in dictionary, then update the value for that key\n",
    "for row in data:\n",
    "    if 'Chips' in row[2]:\n",
    "        if row[2] not in chips:\n",
    "            chips[row[2]] = int(row[1])     # this is a new key, so create key/value pair\n",
    "        else:\n",
    "            chips[row[2]] += int(row[1])    # this is an existing key, so add to the value"
   ]
  },
  {
   "cell_type": "code",
   "execution_count": null,
   "metadata": {},
   "outputs": [],
   "source": [
    "# defaultdict saves you the trouble of checking whether a key already exists\n",
    "from collections import defaultdict"
   ]
  },
  {
   "cell_type": "code",
   "execution_count": null,
   "metadata": {},
   "outputs": [],
   "source": [
    "dchips = defaultdict(int)\n",
    "for row in data:\n",
    "    if 'Chips' in row[2]:\n",
    "        dchips[row[2]] += int(row[1])"
   ]
  },
  {
   "cell_type": "code",
   "execution_count": null,
   "metadata": {},
   "outputs": [],
   "source": []
  },
  {
   "cell_type": "markdown",
   "metadata": {},
   "source": [
    "---\n",
    "\n",
    "## Bonus: Craft a problem statement about this data that interests you, and then answer it!\n"
   ]
  },
  {
   "cell_type": "code",
   "execution_count": null,
   "metadata": {},
   "outputs": [],
   "source": []
  },
  {
   "cell_type": "code",
   "execution_count": null,
   "metadata": {},
   "outputs": [],
   "source": []
  },
  {
   "cell_type": "code",
   "execution_count": null,
   "metadata": {},
   "outputs": [],
   "source": []
  },
  {
   "cell_type": "code",
   "execution_count": null,
   "metadata": {},
   "outputs": [],
   "source": []
  }
 ],
 "metadata": {
  "anaconda-cloud": {},
  "kernelspec": {
   "display_name": "Python 3",
   "language": "python",
   "name": "python3"
  },
  "language_info": {
   "codemirror_mode": {
    "name": "ipython",
    "version": 3
   },
   "file_extension": ".py",
   "mimetype": "text/x-python",
   "name": "python",
   "nbconvert_exporter": "python",
   "pygments_lexer": "ipython3",
   "version": "3.8.5"
  }
 },
 "nbformat": 4,
 "nbformat_minor": 2
}
